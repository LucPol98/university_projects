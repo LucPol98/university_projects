{
  "nbformat": 4,
  "nbformat_minor": 0,
  "metadata": {
    "accelerator": "GPU",
    "colab": {
      "name": "ProgettoNN-VGG16.ipynb",
      "provenance": [],
      "collapsed_sections": []
    },
    "kernelspec": {
      "display_name": "Python 3",
      "language": "python",
      "name": "python3"
    },
    "language_info": {
      "codemirror_mode": {
        "name": "ipython",
        "version": 3
      },
      "file_extension": ".py",
      "mimetype": "text/x-python",
      "name": "python",
      "nbconvert_exporter": "python",
      "pygments_lexer": "ipython3",
      "version": "3.6.10"
    }
  },
  "cells": [
    {
      "cell_type": "markdown",
      "metadata": {
        "id": "vrjkbJ5JcfvQ"
      },
      "source": [
        "# Importing *Libraries*"
      ]
    },
    {
      "cell_type": "code",
      "metadata": {
        "id": "f-kOEMqSBP5O"
      },
      "source": [
        "# imports for general libraries for plotting and more\n",
        "import numpy as np\n",
        "import os, time, zipfile, cv2, itertools\n",
        "import matplotlib\n",
        "import matplotlib.pyplot as plt\n",
        "matplotlib.use('agg')\n",
        "%matplotlib inline\n",
        "from sklearn.metrics import classification_report, confusion_matrix, plot_confusion_matrix\n",
        "from sklearn.utils.multiclass import unique_labels\n",
        "from sklearn.model_selection import train_test_split\n",
        "\n",
        "# keras imports for the dataset and the networks\n",
        "import tensorflow as tf\n",
        "import tensorflow.keras as keras\n",
        "from keras import models, layers, datasets, optimizers, regularizers, applications\n",
        "from keras.callbacks import TensorBoard, EarlyStopping, ModelCheckpoint\n",
        "from keras.models import Model, Sequential, load_model\n",
        "from keras.layers import Dense, Dropout, Activation, Conv2D, MaxPooling2D, Flatten, BatchNormalization, AveragePooling2D\n",
        "from tensorflow.keras.preprocessing.image import ImageDataGenerator"
      ],
      "execution_count": null,
      "outputs": []
    },
    {
      "cell_type": "markdown",
      "metadata": {
        "id": "L4v_veOzcwY7"
      },
      "source": [
        "# Loading Data\n",
        "\n",
        "Mounted Google Drive and defining the common path for the folders dedicated to the dataset"
      ]
    },
    {
      "cell_type": "code",
      "metadata": {
        "colab": {
          "base_uri": "https://localhost:8080/"
        },
        "id": "AN74mZkr3_V0",
        "outputId": "623aa97e-4893-48ba-a97f-6a685887045d"
      },
      "source": [
        "from google.colab import drive\n",
        "drive.mount('/content/drive')\n",
        "\n",
        "origineColab = '/content/drive/My Drive/Colab Notebooks/ProgettoNN'"
      ],
      "execution_count": null,
      "outputs": [
        {
          "output_type": "stream",
          "text": [
            "Drive already mounted at /content/drive; to attempt to forcibly remount, call drive.mount(\"/content/drive\", force_remount=True).\n"
          ],
          "name": "stdout"
        }
      ]
    },
    {
      "cell_type": "markdown",
      "metadata": {
        "id": "ll37Y_wGFTRc"
      },
      "source": [
        "Extracting the dataset zip "
      ]
    },
    {
      "cell_type": "code",
      "metadata": {
        "id": "by53yn5-FSBK"
      },
      "source": [
        "# Import and set dataset in COLAB:\n",
        "local_zip = origineColab+'/dataset/DatasetProgettoNN.zip'\n",
        "zip_ref = zipfile.ZipFile(local_zip, 'r')\n",
        "zip_ref.extractall('/content/')\n",
        "zip_ref.close()\n",
        "\n",
        "# Directory del dataset:\n",
        "base_dir = '/content/DatasetProgettoNN'\n",
        "train_dir = base_dir+'/train'\n",
        "test_dir = base_dir+'/test'"
      ],
      "execution_count": null,
      "outputs": []
    },
    {
      "cell_type": "markdown",
      "metadata": {
        "id": "TVG0WV8QdITa"
      },
      "source": [
        "Here the user can decide on some features of the network"
      ]
    },
    {
      "cell_type": "code",
      "metadata": {
        "id": "zmJsMQko3fVm"
      },
      "source": [
        "# 1. augmentation on the train and / or test dataset\n",
        "# If you want the augmentation of the set of training set personalAg to 'YES', otherwise to 'NO'\n",
        "# (N.B.: if you set it wrong, the parameter will be set to 'YES')\n",
        "personalAg = 'YES'\n",
        "\n",
        "# 2. choose the model: \"VGG16\" or \"MobileNetv2\"\n",
        "choosenModel = \"MobileNetv2\"\n",
        "\n",
        "# 3. choose early stopping \"YES\" or \"NO\"\n",
        "earlyStopping = 'YES'\n",
        "\n",
        "# 4. choose the layers not to train. It must be: 0, 4, 7, 11, 15, 19\n",
        "doNotTrain = 0\n",
        "\n",
        "# 5. choose the optimizier: \"Adam\" or \"Adagrad\"\n",
        "chooseOptimizer = \"Adagrad\""
      ],
      "execution_count": null,
      "outputs": []
    },
    {
      "cell_type": "markdown",
      "metadata": {
        "id": "mZdB23XJE8wK"
      },
      "source": [
        "Definition of the macroparamaters, global variables and global path "
      ]
    },
    {
      "cell_type": "code",
      "metadata": {
        "colab": {
          "base_uri": "https://localhost:8080/"
        },
        "id": "-LgvWukY3fVm",
        "outputId": "d207a605-41b6-43b0-cccc-beeda3a5718f"
      },
      "source": [
        "img_width, img_height = 150, 150\n",
        "maxEpochs = 75\n",
        "split_for_validation = 0.15\n",
        "nb_train_samples = 5120\n",
        "nb_test_samples = 1280\n",
        "batch_size = 64\n",
        "formaInput = (img_width, img_height, 3)\n",
        "\n",
        "# Checking the correct choice of the user\n",
        "if personalAg!='YES': personalAg='NO'\n",
        "if earlyStopping!='NO': earlyStopping='YES'\n",
        "if doNotTrain not in [0, 4, 7, 11, 15, 19]: doNotTrain=0\n",
        "if chooseOptimizer==\"Adagrad\":\n",
        "    myOptimizer = \"Adagrad\"\n",
        "else:\n",
        "    myOptimizer = optimizers.Adam(lr=1e-6) \n",
        "\n",
        "# Genereting common and universal path:\n",
        "nameModelTraining = choosenModel+'-personalAug'+personalAg+\"-earlyStop\"+earlyStopping\n",
        "if choosenModel==\"VGG16\": nameModelTraining = nameModelTraining+\"-doNotTrain\"+str(doNotTrain)\n",
        "if chooseOptimizer==\"Adagrad\": nameModelTraining = nameModelTraining+\"-Adagrad\"\n",
        "directoryBase = origineColab+\"/\"+nameModelTraining\n",
        "if not(os.path.exists(directoryBase)):\n",
        "    os.makedirs(directoryBase)\n",
        "    os.makedirs(directoryBase+\"/results\")\n",
        "    os.makedirs(directoryBase+\"/models\")\n",
        "    os.makedirs(directoryBase+\"/resIm\")\n",
        "pathSaveModel       = directoryBase+'/results/'+nameModelTraining+'.h5'\n",
        "pathPrintModel      = directoryBase+'/models/modello-'+nameModelTraining+'.png'\n",
        "pathPrintHistogram  = directoryBase+'/models/istogramma-'+nameModelTraining+'.png'\n",
        "pathPrintTraining   = directoryBase+'/resIm/stampeAdd-'+nameModelTraining+\".png\"\n",
        "pathCM              = directoryBase+'/resIm/CM-'+nameModelTraining+'.png'\n",
        "\n",
        "# Setting the Augmentation:\n",
        "# Default:\n",
        "personal_shear_range          = 0.0\n",
        "personal_zoom_range           = 0.0\n",
        "personal_width_shift_range    = 0.0\n",
        "personal_horizontal_flip_mode = 0.0\n",
        "personal_height_shift_range   = 0.0\n",
        "personal_fill_mode            = \"constant\" # fills outlines when the image is augmented with the closest\n",
        "# Augmentation activation if required\n",
        "if personalAg == 'YES':\n",
        "    personal_shear_range          = 0.06 # Angular distortion\n",
        "    personal_zoom_range           = 0.06 # Zoom in the images\n",
        "    personal_horizontal_flip_mode = 0.06 # horizontal flip of the images\n",
        "    personal_width_shift_range    = 0.06 # horizontal movement of the photo to analyze it even when cropped\n",
        "    personal_height_shift_range   = 0.06 # vertical movement of the photo to analyze it even when cropped\n",
        "\n",
        "\n",
        "# Setting the EarlyStopping:\n",
        "if earlyStopping == 'YES':\n",
        "    tf.keras.callbacks.EarlyStopping(monitor='val_loss', min_delta=0, patience=0,\n",
        "        verbose=0, mode='auto', baseline=None, restore_best_weights=False)\n",
        "    callback = [ TensorBoard(update_freq=521),\n",
        "                    EarlyStopping(monitor='val_accuracy', patience=2),\n",
        "                    ModelCheckpoint(pathSaveModel, save_best_only=True), ]\n",
        "else:\n",
        "    callback = None\n",
        "\n",
        "print(\"Name of the Training Model:\")\n",
        "print(nameModelTraining)"
      ],
      "execution_count": null,
      "outputs": [
        {
          "output_type": "stream",
          "text": [
            "Name of the Training Model:\n",
            "MobileNetv2-personalAugYES-earlyStopYES-Adagrad\n"
          ],
          "name": "stdout"
        }
      ]
    },
    {
      "cell_type": "markdown",
      "metadata": {
        "id": "OHi-VXd3F4Zl"
      },
      "source": [
        "The next cell is important to having an orderly reading of folders so you get the correct names"
      ]
    },
    {
      "cell_type": "code",
      "metadata": {
        "id": "SV_JgKvCEsT_"
      },
      "source": [
        "# Forces folder sorting if they have names of different lengths\n",
        "def classificator (directory):\n",
        "    childDirectories = next(os.walk(directory))[1]\n",
        "    for x in range(len(childDirectories)):\n",
        "        childDirectories[x]=int(childDirectories[x])\n",
        "    childDirectories.sort()\n",
        "    for x in range(len(childDirectories)):\n",
        "        childDirectories[x]=str(childDirectories[x])\n",
        "    return childDirectories"
      ],
      "execution_count": null,
      "outputs": []
    },
    {
      "cell_type": "markdown",
      "metadata": {
        "id": "wPw2yQyYGoXP"
      },
      "source": [
        "Defining the names of the associated classes"
      ]
    },
    {
      "cell_type": "code",
      "metadata": {
        "colab": {
          "base_uri": "https://localhost:8080/"
        },
        "id": "mDfPADZA3fVm",
        "outputId": "67dad0cc-f8ca-42b9-8bc5-9fa13483e67d"
      },
      "source": [
        "# Import the names of classes and categories\n",
        "listNameFolders = []\n",
        "listNameFolders = os.listdir(base_dir)\n",
        "if '.DS_Store' in listNameFolders:\n",
        "  listNameFolders.remove('.DS_Store')\n",
        "\n",
        "listNamesClasses = []\n",
        "for c in listNameFolders:\n",
        "  cartelle = os.listdir(base_dir+\"/\"+c)\n",
        "  for elem in cartelle:\n",
        "    if elem==\".DS_Store\" or elem in listNamesClasses: continue\n",
        "    listNamesClasses.append(elem)\n",
        "#print(listNameFolders)\n",
        "print(listNamesClasses)"
      ],
      "execution_count": null,
      "outputs": [
        {
          "output_type": "stream",
          "text": [
            "['alzheimers', 'nonalzheimers']\n"
          ],
          "name": "stdout"
        }
      ]
    },
    {
      "cell_type": "markdown",
      "metadata": {
        "id": "jI1SrWeFHOSV"
      },
      "source": [
        "# Creating the Model"
      ]
    },
    {
      "cell_type": "code",
      "metadata": {
        "id": "dCYbECUe9F7x"
      },
      "source": [
        "def make_train_generator():\n",
        "    # Augmentation configuration for the dataset\n",
        "    X_datagen = ImageDataGenerator(\n",
        "        rescale=1. / 255)\n",
        "    X_generator = X_datagen.flow_from_directory(\n",
        "        train_dir,\n",
        "        target_size=(img_width, img_height),\n",
        "        color_mode=\"rgb\",\n",
        "        batch_size=nb_train_samples,\n",
        "        class_mode='binary',\n",
        "        subset='training',\n",
        "        shuffle=True)\n",
        "    return X_generator\n",
        "\n",
        "def make_test_generator():\n",
        "    # Augmentation configuration for the dataset\n",
        "    X_datagen = ImageDataGenerator(\n",
        "        rescale=1. / 255)\n",
        "    X_generator = X_datagen.flow_from_directory(\n",
        "        test_dir,\n",
        "        target_size=(img_width, img_height),\n",
        "        color_mode=\"rgb\",\n",
        "        batch_size=nb_test_samples,\n",
        "        class_mode='binary',\n",
        "        subset='training',\n",
        "        shuffle=True)\n",
        "    return X_generator\n",
        "\n",
        "def make_AUGMENTATION_train_generator():\n",
        "  # Augmentation configuration for the dataset\n",
        "  X_datagen = ImageDataGenerator(\n",
        "      rescale=1. / 255,\n",
        "      height_shift_range  = personal_height_shift_range,\n",
        "      shear_range         = personal_shear_range,\n",
        "      zoom_range          = personal_zoom_range,\n",
        "      fill_mode           = personal_fill_mode,\n",
        "      width_shift_range   = personal_width_shift_range,\n",
        "      horizontal_flip     = personal_horizontal_flip_mode\n",
        "      )\n",
        "  X_orig_generator = X_datagen.flow_from_directory(\n",
        "      train_dir,\n",
        "      target_size=(img_width, img_height),\n",
        "      color_mode=\"rgb\",\n",
        "      batch_size=nb_train_samples,\n",
        "      class_mode='binary',\n",
        "      subset='training',\n",
        "      shuffle=True)\n",
        "  return X_orig_generator"
      ],
      "execution_count": null,
      "outputs": []
    },
    {
      "cell_type": "markdown",
      "metadata": {
        "id": "_DWI_QkzGuu2"
      },
      "source": [
        "Importing the dataset and defining training, validation and test sets"
      ]
    },
    {
      "cell_type": "code",
      "metadata": {
        "colab": {
          "base_uri": "https://localhost:8080/"
        },
        "id": "SBieTY7eCnEB",
        "outputId": "0c3083cb-7f93-4dde-bc05-9522717c4d75"
      },
      "source": [
        "# importing the dataset using tf.data.Dataset\n",
        "train_dataset = tf.data.Dataset.from_generator(make_train_generator, (tf.float32, tf.float32))\n",
        "test_dataset = tf.data.Dataset.from_generator(make_test_generator, (tf.float32, tf.float32))\n",
        "\n",
        "# obtaining images and labels from datasets created with generators\n",
        "for images, labels in train_dataset.take(1):\n",
        "    X_train = images.numpy()\n",
        "    Y_train = labels.numpy()\n",
        "\n",
        "for images, labels in test_dataset.take(1):\n",
        "    X_test = images.numpy()\n",
        "    Y_test = labels.numpy()\n",
        "\n",
        "# If there is augmentation, I call a generator again, but this time it contains instructions for augmentation, and then I merge the set without augmentation with the one that has it.\n",
        "if personalAg==\"YES\":\n",
        "    train_AUGMENTATION_dataset = tf.data.Dataset.from_generator(make_AUGMENTATION_train_generator, (tf.float32, tf.float32))\n",
        "    for images, labels in train_AUGMENTATION_dataset.take(1):\n",
        "        X_train_orig = images.numpy()\n",
        "        Y_train_orig = labels.numpy()\n",
        "    X_train = np.concatenate((X_train, X_train_orig), axis=0)\n",
        "    Y_train = np.concatenate((Y_train, Y_train_orig), axis=0)\n",
        "\n",
        "X_train, X_valid, Y_train, Y_valid = train_test_split(X_train, Y_train, test_size=split_for_validation, random_state=1)\n",
        "\n",
        "print(\"Samples of training set: \"+str(len(X_train)))\n",
        "print(\"Samples of validation set: \"+str(len(X_valid)))\n",
        "print(\"Samples of test set: \"+str(len(X_test)))"
      ],
      "execution_count": null,
      "outputs": [
        {
          "output_type": "stream",
          "text": [
            "Found 5120 images belonging to 2 classes.\n",
            "Found 1280 images belonging to 2 classes.\n",
            "Found 5120 images belonging to 2 classes.\n",
            "Samples of training set: 8704\n",
            "Samples of validation set: 1536\n",
            "Samples of test set: 1280\n"
          ],
          "name": "stdout"
        }
      ]
    },
    {
      "cell_type": "code",
      "metadata": {
        "colab": {
          "base_uri": "https://localhost:8080/",
          "height": 648
        },
        "id": "FpedOA6gob1g",
        "outputId": "583ef303-b1e0-4b77-d917-edb7d9f0f35b"
      },
      "source": [
        "# HISTOGRAM REPRESENTATION\n",
        "# Generate names of the x axis\n",
        "valAsseX = listNamesClasses\n",
        "\n",
        "# Creating alignment for the x axis results\n",
        "def bins_labels(bins, **kwargs):\n",
        "    bin_w = (max(bins) - min(bins)) / (len(bins) - 1)\n",
        "    plt.xticks(np.arange(min(bins)+bin_w/2, max(bins), bin_w), bins, **kwargs)\n",
        "    plt.xlim(bins[0], bins[-1])\n",
        "\n",
        "np.warnings.filterwarnings('ignore', category=np.VisibleDeprecationWarning)\n",
        "plt.figure(num=None, figsize=(10, 10))\n",
        "bins = range(3)\n",
        "plt.hist([Y_train, Y_valid, Y_test], bins=bins, color=['blue', 'orange', 'green'], alpha=0.7)\n",
        "bins_labels(bins, fontsize=20)\n",
        "plt.xlabel(\"classes\", fontsize=18)\n",
        "plt.ylabel(\"number of elements for each class\", fontsize=18)\n",
        "plt.xticks(np.arange(len(valAsseX)),valAsseX)\n",
        "plt.title('Full dataset histogram', fontsize=24)\n",
        "plt.grid(axis='y', alpha=0.7)\n",
        "plt.savefig(pathPrintHistogram)\n",
        "plt.show()"
      ],
      "execution_count": null,
      "outputs": [
        {
          "output_type": "display_data",
          "data": {
            "image/png": "[encoded data removed]",
            "text/plain": [
              "<Figure size 720x720 with 1 Axes>"
            ]
          },
          "metadata": {
            "tags": [],
            "needs_background": "light"
          }
        }
      ]
    },
    {
      "cell_type": "markdown",
      "metadata": {
        "id": "a0hcVSTtIOAL"
      },
      "source": [
        "# Model"
      ]
    },
    {
      "cell_type": "markdown",
      "metadata": {
        "id": "QYni24gRIQmo"
      },
      "source": [
        "Define the model based on the user's choices"
      ]
    },
    {
      "cell_type": "code",
      "metadata": {
        "id": "Q8VWO9pJE8vq",
        "colab": {
          "base_uri": "https://localhost:8080/"
        },
        "outputId": "328da9c1-f226-409d-e20f-3433f4e59eee"
      },
      "source": [
        "print('Dimension of the training set:',X_train.shape)\n",
        "print('Dimension of the validation set:',X_valid.shape)\n",
        "print('Dimension of the test set:',X_test.shape)\n",
        "\n",
        "# MobileNetV2 has predetermined dimensions for the input images, so a resize with interpolation is required\n",
        "if(choosenModel==\"MobileNetv2\"):\n",
        "    def resize_dataset(dataset):\n",
        "        dataset_resized = []\n",
        "        for i in range(len(dataset)):\n",
        "            dataset_resized.append(cv2.resize(dataset[i], dsize=(128, 128), interpolation=cv2.INTER_CUBIC))\n",
        "        dataset_resized = np.array(dataset_resized)\n",
        "        return dataset_resized\n",
        "\n",
        "    print(\"\\nStarting the reshape for the training set.\")\n",
        "    X_train = resize_dataset(X_train)\n",
        "    print(\"Finished with the training set. Starting the reshape for the validation set.\")\n",
        "    X_valid = resize_dataset(X_valid)\n",
        "    print(\"Finished with the validation set. Starting the reshape for the test set.\")\n",
        "    X_test = resize_dataset(X_test)\n",
        "    print(\"Finished with the test set.\\n\")\n",
        "    formaInput = (128, 128, 3)\n",
        "\n",
        "    print('Dimension of the reshaped training set:',X_train.shape)\n",
        "    print('Dimension of the reshaped validation set:',X_valid.shape)\n",
        "    print('Dimension of the reshaped test set:',X_test.shape)"
      ],
      "execution_count": null,
      "outputs": [
        {
          "output_type": "stream",
          "text": [
            "Dimension of the training set: (8704, 150, 150, 3)\n",
            "Dimension of the validation set: (1536, 150, 150, 3)\n",
            "Dimension of the test set: (1280, 150, 150, 3)\n",
            "\n",
            "Starting the reshape for the training set.\n",
            "Finished with the training set. Starting the reshape for the validation set.\n",
            "Finished with the validation set. Starting the reshape for the test set.\n",
            "Finished with the test set..\n",
            "\n",
            "Dimension of the reshaped training set: (8704, 128, 128, 3)\n",
            "Dimension of the reshaped validation set: (1536, 128, 128, 3)\n",
            "Dimension of the reshaped test set: (1280, 128, 128, 3)\n"
          ],
          "name": "stdout"
        }
      ]
    },
    {
      "cell_type": "code",
      "metadata": {
        "colab": {
          "base_uri": "https://localhost:8080/"
        },
        "id": "QHr2hSNpBuDq",
        "outputId": "797f0bfd-8882-4ea7-e718-7a22118857fb"
      },
      "source": [
        "if choosenModel==\"VGG16\":\n",
        "    base_model = tf.keras.applications.VGG16(input_shape=formaInput, include_top=False, weights=\"imagenet\")\n",
        "    base_model.trainable = True\n",
        "    base_model.summary()\n",
        "    for layer in base_model.layers[:doNotTrain]:\n",
        "            layer.trainable = False\n",
        "    # Adding custom Layers \n",
        "    def model_sequential():\n",
        "        model = Sequential()\n",
        "        model.add(base_model)\n",
        "        model.add(Flatten(input_shape=base_model.output_shape[1:]))\n",
        "        model.add(Dense(512, activation=tf.nn.leaky_relu))\n",
        "        model.add(Dropout(0.4)) \n",
        "        model.add(Dense(256, activation=tf.nn.leaky_relu))\n",
        "        model.add(Dropout(0.3))\n",
        "        model.add(Dense(1, activation='sigmoid'))\n",
        "        return model\n",
        "    personalModel = model_sequential()\n",
        "    personalModel.summary()\n",
        "    tf.keras.utils.plot_model(personalModel, to_file=pathPrintModel)\n",
        "    personalModel.compile(loss=tf.keras.losses.BinaryCrossentropy(from_logits=True), optimizer=myOptimizer, metrics=['accuracy'])\n",
        "elif choosenModel==\"MobileNetv2\":\n",
        "    base_model = tf.keras.applications.MobileNetV2(input_shape=formaInput, include_top=False, weights=\"imagenet\")\n",
        "    base_model.trainable = True\n",
        "    # Adding custom Layers \n",
        "    def model_sequential():\n",
        "        model = Sequential()\n",
        "        model.add(base_model)\n",
        "        model.add(Flatten(input_shape=base_model.output_shape[1:]))\n",
        "        model.add(Dense(1024, activation=tf.nn.leaky_relu))\n",
        "        model.add(Dropout(0.4))\n",
        "        model.add(Dense(256, activation=tf.nn.leaky_relu))\n",
        "        model.add(Dense(64, activation=tf.nn.leaky_relu))\n",
        "        model.add(Dense(1, activation='sigmoid'))\n",
        "        return model \n",
        "    personalModel = model_sequential()\n",
        "    personalModel.summary()\n",
        "    tf.keras.utils.plot_model(personalModel, to_file=pathPrintModel)\n",
        "    personalModel.compile(optimizer=myOptimizer, loss=tf.keras.losses.BinaryCrossentropy(from_logits=True), metrics=['accuracy'])"
      ],
      "execution_count": null,
      "outputs": [
        {
          "output_type": "stream",
          "text": [
            "Downloading data from https://storage.googleapis.com/tensorflow/keras-applications/mobilenet_v2/mobilenet_v2_weights_tf_dim_ordering_tf_kernels_1.0_128_no_top.h5\n",
            "9412608/9406464 [==============================] - 0s 0us/step\n",
            "Model: \"sequential\"\n",
            "_________________________________________________________________\n",
            "Layer (type)                 Output Shape              Param #   \n",
            "=================================================================\n",
            "mobilenetv2_1.00_128 (Functi (None, 4, 4, 1280)        2257984   \n",
            "_________________________________________________________________\n",
            "flatten (Flatten)            (None, 20480)             0         \n",
            "_________________________________________________________________\n",
            "dense (Dense)                (None, 1024)              20972544  \n",
            "_________________________________________________________________\n",
            "dropout (Dropout)            (None, 1024)              0         \n",
            "_________________________________________________________________\n",
            "dense_1 (Dense)              (None, 256)               262400    \n",
            "_________________________________________________________________\n",
            "dense_2 (Dense)              (None, 64)                16448     \n",
            "_________________________________________________________________\n",
            "dense_3 (Dense)              (None, 1)                 65        \n",
            "=================================================================\n",
            "Total params: 23,509,441\n",
            "Trainable params: 23,475,329\n",
            "Non-trainable params: 34,112\n",
            "_________________________________________________________________\n"
          ],
          "name": "stdout"
        }
      ]
    },
    {
      "cell_type": "markdown",
      "metadata": {
        "id": "lYWOatIEIcFv"
      },
      "source": [
        "# Training the Network"
      ]
    },
    {
      "cell_type": "code",
      "metadata": {
        "colab": {
          "base_uri": "https://localhost:8080/",
          "height": 849
        },
        "id": "lssH-aRVGpNA",
        "scrolled": false,
        "outputId": "b0ff7c2b-2b09-43f9-c682-ea5a4a028e48"
      },
      "source": [
        "# Starting the stopwatch to find out how long the training lasts\n",
        "t0 = time.time()\n",
        "\n",
        "# Start Training\n",
        "history = personalModel.fit(X_train, Y_train,\n",
        "                    batch_size=batch_size,\n",
        "                    epochs=maxEpochs,\n",
        "                    verbose=2,\n",
        "                    validation_data=(X_valid, Y_valid),\n",
        "                    callbacks=callback)\n",
        "\n",
        "\n",
        "# Printing the progress of the train\n",
        "fig = plt.figure()\n",
        "plt.subplot(2,1,1)\n",
        "plt.plot(history.history['accuracy'])\n",
        "plt.plot(history.history['val_accuracy'])\n",
        "plt.title('model accuracy')\n",
        "plt.ylabel('accuracy')\n",
        "plt.xlabel('epoch')\n",
        "plt.legend(['train', 'test'], loc='lower right')\n",
        "\n",
        "plt.subplot(2,1,2)\n",
        "plt.plot(history.history['loss'])\n",
        "plt.plot(history.history['val_loss'])\n",
        "plt.title('model loss')\n",
        "plt.ylabel('loss')\n",
        "plt.xlabel('epoch')\n",
        "plt.legend(['train', 'test'], loc='upper right')\n",
        "\n",
        "plt.tight_layout()\n",
        "plt.savefig(pathPrintTraining)\n",
        "\n",
        "fig"
      ],
      "execution_count": null,
      "outputs": [
        {
          "output_type": "stream",
          "text": [
            "Epoch 1/75\n",
            "136/136 - 51s - loss: 0.6504 - accuracy: 0.6544 - val_loss: 0.9041 - val_accuracy: 0.5137\n",
            "Epoch 2/75\n",
            "136/136 - 44s - loss: 0.4873 - accuracy: 0.7593 - val_loss: 0.8540 - val_accuracy: 0.5410\n",
            "Epoch 3/75\n",
            "136/136 - 44s - loss: 0.3932 - accuracy: 0.8197 - val_loss: 0.7792 - val_accuracy: 0.5892\n",
            "Epoch 4/75\n",
            "136/136 - 43s - loss: 0.2934 - accuracy: 0.8745 - val_loss: 0.7336 - val_accuracy: 0.6094\n",
            "Epoch 5/75\n",
            "136/136 - 43s - loss: 0.2012 - accuracy: 0.9234 - val_loss: 0.6947 - val_accuracy: 0.6647\n",
            "Epoch 6/75\n",
            "136/136 - 44s - loss: 0.1437 - accuracy: 0.9458 - val_loss: 0.6843 - val_accuracy: 0.6888\n",
            "Epoch 7/75\n",
            "136/136 - 44s - loss: 0.0851 - accuracy: 0.9708 - val_loss: 0.8739 - val_accuracy: 0.6576\n",
            "Epoch 8/75\n",
            "136/136 - 43s - loss: 0.0623 - accuracy: 0.9801 - val_loss: 0.8926 - val_accuracy: 0.6628\n"
          ],
          "name": "stdout"
        },
        {
          "output_type": "execute_result",
          "data": {
            "image/png": "[encoded data removed]",
            "text/plain": [
              "<Figure size 432x288 with 2 Axes>"
            ]
          },
          "metadata": {
            "tags": []
          },
          "execution_count": 13
        },
        {
          "output_type": "display_data",
          "data": {
            "image/png": "[encoded data removed]",
            "text/plain": [
              "<Figure size 432x288 with 2 Axes>"
            ]
          },
          "metadata": {
            "tags": [],
            "needs_background": "light"
          }
        }
      ]
    },
    {
      "cell_type": "markdown",
      "metadata": {
        "id": "NI1pjl2BIiNL"
      },
      "source": [
        "Computing the time of training\n"
      ]
    },
    {
      "cell_type": "code",
      "metadata": {
        "colab": {
          "base_uri": "https://localhost:8080/"
        },
        "id": "_xuOrKIN3fVn",
        "outputId": "41d2dbe6-5ef9-43fc-f989-10ed733bac6c"
      },
      "source": [
        "t1 = time.time()\n",
        "hours, rem = divmod(t1-t0, 3600)\n",
        "minutes, seconds = divmod(rem, 60)\n",
        "\n",
        "print(\"Training time in hours-minutes-seconds-waste. Remaining:\")\n",
        "print(\"{:0>2}:{:0>2}:{:05.2f}\".format(int(hours),int(minutes),seconds))"
      ],
      "execution_count": null,
      "outputs": [
        {
          "output_type": "stream",
          "text": [
            "Training time in hours-minutes-seconds-waste. Remaining:\n",
            "00:06:21.73\n"
          ],
          "name": "stdout"
        }
      ]
    },
    {
      "cell_type": "markdown",
      "metadata": {
        "id": "pv8e9PCSIv1T"
      },
      "source": [
        "# Evaluation"
      ]
    },
    {
      "cell_type": "markdown",
      "metadata": {
        "id": "yMxC2tECJCfJ"
      },
      "source": [
        "Loading the model from saving and calculating accuracy and loss"
      ]
    },
    {
      "cell_type": "code",
      "metadata": {
        "colab": {
          "base_uri": "https://localhost:8080/"
        },
        "id": "pxU9C4c23fVn",
        "outputId": "adab2914-98a2-4c29-e58e-4a606f3a0b39"
      },
      "source": [
        "personalModel = load_model(pathSaveModel, custom_objects={'leaky_relu': tf.nn.leaky_relu})\n",
        "\n",
        "loss_and_metrics = personalModel.evaluate(X_test, Y_test, verbose=2)\n",
        "\n",
        "print(\"Test Loss\", loss_and_metrics[0])\n",
        "print(\"Test Accuracy\", loss_and_metrics[1])"
      ],
      "execution_count": null,
      "outputs": [
        {
          "output_type": "stream",
          "text": [
            "40/40 - 3s - loss: 0.6605 - accuracy: 0.6836\n",
            "Test Loss 0.6605170965194702\n",
            "Test Accuracy 0.68359375\n"
          ],
          "name": "stdout"
        }
      ]
    },
    {
      "cell_type": "markdown",
      "metadata": {
        "id": "nAQcC_m9JHvf"
      },
      "source": [
        "Printing the Classification Report"
      ]
    },
    {
      "cell_type": "code",
      "metadata": {
        "colab": {
          "base_uri": "https://localhost:8080/"
        },
        "id": "xWN6BQr7UwPm",
        "outputId": "3711dd6b-11b7-4168-d86d-bc63ded3650b"
      },
      "source": [
        "y_pred = personalModel.predict(X_test).round()\n",
        "print(classification_report(Y_test, y_pred, labels=None, target_names=listNamesClasses, digits=2))"
      ],
      "execution_count": null,
      "outputs": [
        {
          "output_type": "stream",
          "text": [
            "               precision    recall  f1-score   support\n",
            "\n",
            "   alzheimers       0.71      0.62      0.66       640\n",
            "nonalzheimers       0.66      0.75      0.70       640\n",
            "\n",
            "     accuracy                           0.68      1280\n",
            "    macro avg       0.69      0.68      0.68      1280\n",
            " weighted avg       0.69      0.68      0.68      1280\n",
            "\n"
          ],
          "name": "stdout"
        }
      ]
    },
    {
      "cell_type": "markdown",
      "metadata": {
        "id": "2BY1HDRyJYyV"
      },
      "source": [
        "Defining and Plotting the Confusion Matrix"
      ]
    },
    {
      "cell_type": "code",
      "metadata": {
        "colab": {
          "base_uri": "https://localhost:8080/"
        },
        "id": "6aOnywv6wUuG",
        "outputId": "2baeba61-c98d-49e1-9823-9e05def33428"
      },
      "source": [
        "# Compute confusion matrix\n",
        "cnf_matrix = confusion_matrix(Y_test, y_pred)\n",
        "np.set_printoptions(precision=2)\n",
        "print(cnf_matrix)"
      ],
      "execution_count": null,
      "outputs": [
        {
          "output_type": "stream",
          "text": [
            "[[398 242]\n",
            " [163 477]]\n"
          ],
          "name": "stdout"
        }
      ]
    },
    {
      "cell_type": "code",
      "metadata": {
        "colab": {
          "base_uri": "https://localhost:8080/",
          "height": 314
        },
        "id": "C8OE7MY83fVn",
        "outputId": "eb32cf96-8ad2-4133-db6f-47582c746bc8"
      },
      "source": [
        "#Evaluation of Model - Confusion Matrix Plot\n",
        "def plot_confusion_matrix(cm, classes,\n",
        "                          normalize=False,\n",
        "                          title='Confusion matrix',\n",
        "                          cmap=plt.cm.Blues):\n",
        "    \"\"\"\n",
        "    This function prints and plots the confusion matrix.\n",
        "    Normalization can be applied by setting `normalize=True`.\n",
        "    \"\"\"\n",
        "    if normalize:\n",
        "        cm = cm.astype('float') / cm.sum(axis=1)[:, np.newaxis]\n",
        "        print(\"Normalized confusion matrix\")\n",
        "    else:\n",
        "        print('Confusion matrix without normalization')\n",
        "\n",
        "    plt.imshow(cm, interpolation='nearest', cmap=cmap)\n",
        "    plt.title(title)\n",
        "    plt.colorbar()\n",
        "    tick_marks = np.arange(len(classes))\n",
        "    plt.xticks(tick_marks, classes, rotation=45)\n",
        "    plt.yticks(tick_marks, classes)\n",
        "\n",
        "    fmt = '.2f' if normalize else 'd'\n",
        "    thresh = cm.max() / 2.\n",
        "    for i, j in itertools.product(range(cm.shape[0]), range(cm.shape[1])):\n",
        "        plt.text(j, i, format(cm[i, j], fmt),\n",
        "                 horizontalalignment=\"center\",\n",
        "                 color=\"white\" if cm[i, j] > thresh else \"black\")\n",
        "\n",
        "    plt.ylabel('True label')\n",
        "    plt.xlabel('Predicted label')\n",
        "    plt.tight_layout()\n",
        "    plt.savefig(pathCM)\n",
        "\n",
        "# Plot non-normalized confusion matrix\n",
        "plt.figure()\n",
        "plot_confusion_matrix(cnf_matrix, classes=listNamesClasses, title='Confusion matrix')"
      ],
      "execution_count": null,
      "outputs": [
        {
          "output_type": "stream",
          "text": [
            "Confusion matrix without normalization\n"
          ],
          "name": "stdout"
        },
        {
          "output_type": "display_data",
          "data": {
            "image/png": "[encoded data removed]",
            "text/plain": [
              "<Figure size 432x288 with 2 Axes>"
            ]
          },
          "metadata": {
            "tags": [],
            "needs_background": "light"
          }
        }
      ]
    }
  ]
}